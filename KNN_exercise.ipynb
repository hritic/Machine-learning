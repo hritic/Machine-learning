{
  "nbformat": 4,
  "nbformat_minor": 0,
  "metadata": {
    "colab": {
      "name": "191CS150_KNN_exercise.ipynb",
      "provenance": [],
      "collapsed_sections": [],
      "include_colab_link": true
    },
    "kernelspec": {
      "name": "python3",
      "display_name": "Python 3"
    },
    "language_info": {
      "name": "python"
    }
  },
  "cells": [
    {
      "cell_type": "markdown",
      "metadata": {
        "id": "view-in-github",
        "colab_type": "text"
      },
      "source": [
        "<a href=\"https://colab.research.google.com/github/hritic/Machine-learning/blob/main/KNN_exercise.ipynb\" target=\"_parent\"><img src=\"https://colab.research.google.com/assets/colab-badge.svg\" alt=\"Open In Colab\"/></a>"
      ]
    },
    {
      "cell_type": "code",
      "source": [
        "from google.colab import drive\n",
        "drive.mount('/content/drive')"
      ],
      "metadata": {
        "colab": {
          "base_uri": "https://localhost:8080/"
        },
        "id": "oj7MWDDpJte9",
        "outputId": "63f62226-3310-4120-b091-09bfda95a827"
      },
      "execution_count": null,
      "outputs": [
        {
          "output_type": "stream",
          "name": "stdout",
          "text": [
            "Mounted at /content/drive\n"
          ]
        }
      ]
    },
    {
      "cell_type": "code",
      "execution_count": null,
      "metadata": {
        "colab": {
          "base_uri": "https://localhost:8080/"
        },
        "id": "tRPHxvGhCCJe",
        "outputId": "b72fd272-bf53-434c-b95d-dffb181dfde8"
      },
      "outputs": [
        {
          "output_type": "stream",
          "name": "stdout",
          "text": [
            "Shape of the data:\n",
            "(306, 4)\n",
            "\n",
            "Data Type:\n",
            "<class 'pandas.core.frame.DataFrame'>\n",
            "\n",
            "First 10 rows:\n",
            "   Age  Year operation  Axillary nodes detected  Survival_status\n",
            "0   30              64                        1                1\n",
            "1   30              62                        3                1\n",
            "2   30              65                        0                1\n",
            "3   31              59                        2                1\n",
            "4   31              65                        4                1\n",
            "5   33              58                       10                1\n",
            "6   33              60                        0                1\n",
            "7   34              59                        0                2\n",
            "8   34              66                        9                2\n",
            "9   34              58                       30                1\n"
          ]
        }
      ],
      "source": [
        "import pandas as pd\n",
        "url = \"/content/drive/MyDrive/Colab Notebooks/Lab 6/haberman.csv\"\n",
        "names = ['Age', 'Year operation', 'Axillary nodes detected', 'Survival_status']\n",
        "dataset = pd.read_csv(url, names=names)\n",
        "print(\"Shape of the data:\")\n",
        "print(dataset.shape)\n",
        "print(\"\\nData Type:\")\n",
        "print(type(dataset))\n",
        "print(\"\\nFirst 10 rows:\")\n",
        "print(dataset.head(10))\n"
      ]
    },
    {
      "cell_type": "markdown",
      "source": [
        "Classify Survival status\n",
        "1. Implement KNN without using library function.\n",
        "2. Split Train Test as 80% and 20%.\n",
        "3. Set Random state as 4.\n",
        "4. Get optimum K value with minimum error.\n",
        "5. Show Confusion matrix and classification report."
      ],
      "metadata": {
        "id": "WWyvyrvLFaXp"
      }
    },
    {
      "cell_type": "code",
      "source": [
        "X = dataset.drop('Survival_status', axis=1)\n",
        "y = dataset.Survival_status"
      ],
      "metadata": {
        "id": "1QZmu8Np-RGF"
      },
      "execution_count": null,
      "outputs": []
    },
    {
      "cell_type": "markdown",
      "source": [
        "To implement the KNN consider the following steps\n",
        "1. first we calculate the distance between 2 rows.\n",
        "2. get the nearset neighbours of that particular data\n",
        "3. make predictions."
      ],
      "metadata": {
        "id": "wsdAEBacNRf1"
      }
    },
    {
      "cell_type": "code",
      "source": [
        "#calculate euclidean distance\n",
        "import numpy as np\n",
        "def dis(row1, row2, p):\n",
        "  dis = 0.0\n",
        "  for i in range(len(row1)):\n",
        "    dis += abs(row1[i] - row2[i])**p\n",
        "  return dis**(1/p)"
      ],
      "metadata": {
        "id": "veyt39hkCcrM"
      },
      "execution_count": null,
      "outputs": []
    },
    {
      "cell_type": "markdown",
      "source": [
        "split the data in 80:20 train:test ratio."
      ],
      "metadata": {
        "id": "XdC0sQGR__PO"
      }
    },
    {
      "cell_type": "code",
      "source": [
        "from sklearn.model_selection import train_test_split\n",
        "from sklearn.preprocessing import StandardScaler\n",
        "\n",
        "X_train, X_test, y_train, y_test = train_test_split(X, y, test_size=0.20,\n",
        "                                                   random_state=4)\n",
        "\n",
        "scaler = StandardScaler()\n",
        "X_train = scaler.fit_transform(X_train)\n",
        "X_test = scaler.transform(X_test)"
      ],
      "metadata": {
        "id": "V1xoOsFJRSvz"
      },
      "execution_count": null,
      "outputs": []
    },
    {
      "cell_type": "markdown",
      "source": [
        "implementation of knn"
      ],
      "metadata": {
        "id": "v6TP27svAPWM"
      }
    },
    {
      "cell_type": "code",
      "source": [
        "#implementation of knn with variable K value and different variable way to measure distance\n",
        "def knn(X_train, X_test, y_train, y_test, k, p):\n",
        "    \n",
        "    # Counter to help with label voting\n",
        "    from collections import Counter\n",
        "    \n",
        "    # Make predictions on the test data\n",
        "    # Need output of 1 prediction per test data point\n",
        "    y_pred = []\n",
        "\n",
        "    for test_point in X_test:\n",
        "        distances = []\n",
        "\n",
        "        for train_point in X_train:\n",
        "            distance = dis(test_point, train_point, p=p)\n",
        "            distances.append(distance)\n",
        "        \n",
        "        # Store distances in a dataframe\n",
        "        df_dists = pd.DataFrame(data=distances, columns=['dist'], \n",
        "                                index=y_train.index)\n",
        "        \n",
        "        # Sort distances, and only consider the k closest points\n",
        "        df_nn = df_dists.sort_values(by=['dist'], axis=0)[:k]\n",
        "\n",
        "        # Create counter object to track the labels of k closest neighbors\n",
        "        counter = Counter(y_train[df_nn.index])\n",
        "\n",
        "        # Get most common label of all the nearest neighbors\n",
        "        prediction = counter.most_common()[0][0]\n",
        "        \n",
        "        # Append prediction to output list\n",
        "        y_pred.append(prediction)\n",
        "        \n",
        "    return y_pred\n",
        "\n",
        "\n",
        "# Make predictions on test dataset\n",
        "#Using K value 5 and taking Euclidean distance in account\n",
        "y_pred = knn(X_train, X_test, y_train, y_test, k=5, p=2)\n",
        "\n",
        "print(y_pred)"
      ],
      "metadata": {
        "colab": {
          "base_uri": "https://localhost:8080/"
        },
        "id": "pfVHW0SbAWBP",
        "outputId": "de6d36ea-dfe2-4ee6-c603-e4c4e52e552c"
      },
      "execution_count": null,
      "outputs": [
        {
          "output_type": "stream",
          "name": "stdout",
          "text": [
            "[1, 1, 1, 1, 1, 1, 2, 1, 1, 1, 1, 1, 1, 1, 1, 1, 1, 1, 1, 1, 1, 1, 1, 1, 1, 1, 1, 1, 2, 1, 1, 1, 1, 1, 1, 1, 1, 1, 1, 1, 1, 1, 1, 1, 2, 1, 1, 1, 1, 2, 1, 1, 1, 1, 1, 2, 1, 1, 1, 2, 1, 1]\n"
          ]
        }
      ]
    },
    {
      "cell_type": "markdown",
      "source": [
        "to get a optimal K value to lower error value in range 1 to 50. Using Euclidean distance"
      ],
      "metadata": {
        "id": "tG31wN08B6mp"
      }
    },
    {
      "cell_type": "code",
      "source": [
        "from sklearn.metrics import accuracy_score\n",
        "#import matplotlib.pyplot as plt\n",
        "accuracies = []\n",
        "\n",
        "for k in range(1,50):\n",
        "    y_pred = knn(X_train, X_test, y_train, y_test, k, p=2)\n",
        "    accuracies.append(accuracy_score(y_test, y_pred))\n",
        "#get k value for maximum accuracy\n",
        "k_opt = np.argmax(accuracies)\n",
        "print(k_opt)"
      ],
      "metadata": {
        "colab": {
          "base_uri": "https://localhost:8080/"
        },
        "id": "BMssXc4OCE5p",
        "outputId": "07d558fe-13a8-4f3d-9f91-74437a40bd5f"
      },
      "execution_count": null,
      "outputs": [
        {
          "output_type": "stream",
          "name": "stdout",
          "text": [
            "17\n"
          ]
        }
      ]
    },
    {
      "cell_type": "markdown",
      "source": [
        "confusion matrix and classification report"
      ],
      "metadata": {
        "id": "RMj17djVEJhM"
      }
    },
    {
      "cell_type": "code",
      "source": [
        "import seaborn as sns\n",
        "from sklearn.metrics import confusion_matrix\n",
        "sns.heatmap(confusion_matrix(y_test, y_pred), annot = True)"
      ],
      "metadata": {
        "colab": {
          "base_uri": "https://localhost:8080/",
          "height": 283
        },
        "id": "IlrOpbvYEPIw",
        "outputId": "81d3bf2a-deef-4230-8272-8e270cb33c10"
      },
      "execution_count": null,
      "outputs": [
        {
          "output_type": "execute_result",
          "data": {
            "text/plain": [
              "<matplotlib.axes._subplots.AxesSubplot at 0x7f9bf0cb4590>"
            ]
          },
          "metadata": {},
          "execution_count": 27
        },
        {
          "output_type": "display_data",
          "data": {
            "text/plain": [
              "<Figure size 432x288 with 2 Axes>"
            ],
            "image/png": "[encoded data removed]"
          },
          "metadata": {
            "needs_background": "light"
          }
        }
      ]
    },
    {
      "cell_type": "code",
      "source": [
        "from sklearn.metrics import classification_report\n",
        "print(classification_report(y_test, y_pred))"
      ],
      "metadata": {
        "colab": {
          "base_uri": "https://localhost:8080/"
        },
        "id": "Bw9n5qXtExmu",
        "outputId": "09c2d7c0-ee21-4c97-b567-3750b51d6a14"
      },
      "execution_count": null,
      "outputs": [
        {
          "output_type": "stream",
          "name": "stdout",
          "text": [
            "              precision    recall  f1-score   support\n",
            "\n",
            "           1       0.75      1.00      0.86        46\n",
            "           2       1.00      0.06      0.12        16\n",
            "\n",
            "    accuracy                           0.76        62\n",
            "   macro avg       0.88      0.53      0.49        62\n",
            "weighted avg       0.82      0.76      0.67        62\n",
            "\n"
          ]
        }
      ]
    }
  ]
}