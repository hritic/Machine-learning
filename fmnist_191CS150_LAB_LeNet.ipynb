{
  "cells": [
    {
      "cell_type": "markdown",
      "metadata": {
        "id": "view-in-github",
        "colab_type": "text"
      },
      "source": [
        "<a href=\"https://colab.research.google.com/github/hritic/Machine-learning/blob/main/fmnist_191CS150_LAB_LeNet.ipynb\" target=\"_parent\"><img src=\"https://colab.research.google.com/assets/colab-badge.svg\" alt=\"Open In Colab\"/></a>"
      ]
    },
    {
      "cell_type": "markdown",
      "metadata": {
        "id": "iiE0ew4jSZ8i"
      },
      "source": [
        "# **Visual Information Processing Lab**"
      ]
    },
    {
      "cell_type": "markdown",
      "metadata": {
        "id": "LcTlE8AAz1y3"
      },
      "source": [
        "# LeNet"
      ]
    },
    {
      "cell_type": "code",
      "execution_count": null,
      "metadata": {
        "id": "RoO2sto-y1gM"
      },
      "outputs": [],
      "source": [
        "#from google.colab import drive\n",
        "#drive.mount('/content/drive/')"
      ]
    },
    {
      "cell_type": "code",
      "execution_count": null,
      "metadata": {
        "colab": {
          "base_uri": "https://localhost:8080/",
          "height": 35
        },
        "id": "M3gvTLHF0WrA",
        "outputId": "0fe6a911-6c5c-42f8-e8d9-d57a2ea5f335"
      },
      "outputs": [
        {
          "output_type": "execute_result",
          "data": {
            "text/plain": [
              "\"import os\\nos.chdir('/content/drive/MyDrive/MLlab pics/')\\nprint(os.getcwd())\""
            ],
            "application/vnd.google.colaboratory.intrinsic+json": {
              "type": "string"
            }
          },
          "metadata": {},
          "execution_count": 2
        }
      ],
      "source": [
        "'''import os\n",
        "os.chdir('/content/drive/MyDrive/MLlab pics/')\n",
        "print(os.getcwd())'''"
      ]
    },
    {
      "cell_type": "code",
      "execution_count": null,
      "metadata": {
        "colab": {
          "base_uri": "https://localhost:8080/",
          "height": 35
        },
        "id": "3eQXT1TX0Wwl",
        "outputId": "090707aa-d811-42f8-cffc-3538160981cc"
      },
      "outputs": [
        {
          "output_type": "execute_result",
          "data": {
            "text/plain": [
              "'from IPython.display import Image, display\\ndisplay(Image(filename=\"/content/drive/MyDrive/MLlab pics/6.png\"))'"
            ],
            "application/vnd.google.colaboratory.intrinsic+json": {
              "type": "string"
            }
          },
          "metadata": {},
          "execution_count": 3
        }
      ],
      "source": [
        "'''from IPython.display import Image, display\n",
        "display(Image(filename=\"/content/drive/MyDrive/MLlab pics/6.png\"))'''"
      ]
    },
    {
      "cell_type": "markdown",
      "metadata": {
        "id": "D_GLvaZxRf22"
      },
      "source": [
        "### Datasets and Pre Processing"
      ]
    },
    {
      "cell_type": "code",
      "execution_count": null,
      "metadata": {
        "id": "lprTCs8D0W4z"
      },
      "outputs": [],
      "source": [
        "import keras\n",
        "from keras.datasets import fashion_mnist"
      ]
    },
    {
      "cell_type": "code",
      "execution_count": null,
      "metadata": {
        "id": "mtwQiJg9D2Ja",
        "colab": {
          "base_uri": "https://localhost:8080/"
        },
        "outputId": "6bfa0e9a-9dbb-4e93-9d66-62616b9a14e8"
      },
      "outputs": [
        {
          "output_type": "stream",
          "name": "stdout",
          "text": [
            "Downloading data from https://storage.googleapis.com/tensorflow/tf-keras-datasets/train-labels-idx1-ubyte.gz\n",
            "32768/29515 [=================================] - 0s 0us/step\n",
            "40960/29515 [=========================================] - 0s 0us/step\n",
            "Downloading data from https://storage.googleapis.com/tensorflow/tf-keras-datasets/train-images-idx3-ubyte.gz\n",
            "26427392/26421880 [==============================] - 0s 0us/step\n",
            "26435584/26421880 [==============================] - 0s 0us/step\n",
            "Downloading data from https://storage.googleapis.com/tensorflow/tf-keras-datasets/t10k-labels-idx1-ubyte.gz\n",
            "16384/5148 [===============================================================================================] - 0s 0us/step\n",
            "Downloading data from https://storage.googleapis.com/tensorflow/tf-keras-datasets/t10k-images-idx3-ubyte.gz\n",
            "4423680/4422102 [==============================] - 0s 0us/step\n",
            "4431872/4422102 [==============================] - 0s 0us/step\n"
          ]
        }
      ],
      "source": [
        "(xtrain,ytrain),(xtest,ytest)=fashion_mnist.load_data()"
      ]
    },
    {
      "cell_type": "code",
      "execution_count": null,
      "metadata": {
        "colab": {
          "base_uri": "https://localhost:8080/"
        },
        "id": "e4xqjBZbD2P0",
        "outputId": "85e32269-3265-400f-e468-7254aa54baa7"
      },
      "outputs": [
        {
          "output_type": "stream",
          "name": "stdout",
          "text": [
            "(60000, 28, 28)\n",
            "(60000,)\n",
            "(10000, 28, 28)\n",
            "(10000,)\n"
          ]
        }
      ],
      "source": [
        "print(xtrain.shape)\n",
        "print(ytrain.shape)\n",
        "\n",
        "print(xtest.shape)\n",
        "print(ytest.shape)\n",
        "\n"
      ]
    },
    {
      "cell_type": "code",
      "execution_count": null,
      "metadata": {
        "colab": {
          "base_uri": "https://localhost:8080/",
          "height": 282
        },
        "id": "S3xk-bBLD2Nk",
        "outputId": "f3fa4cde-58a8-4ee7-ee42-197f26049b0b"
      },
      "outputs": [
        {
          "output_type": "execute_result",
          "data": {
            "text/plain": [
              "<matplotlib.image.AxesImage at 0x7f5972668650>"
            ]
          },
          "metadata": {},
          "execution_count": 5
        },
        {
          "output_type": "display_data",
          "data": {
            "text/plain": [
              "<Figure size 432x288 with 1 Axes>"
            ],
            "image/png": "[encoded data removed]"
          },
          "metadata": {
            "needs_background": "light"
          }
        }
      ],
      "source": [
        "import matplotlib.pyplot as plt\n",
        "%matplotlib inline\n",
        "plt.imshow(xtest[1], cmap='gray')"
      ]
    },
    {
      "cell_type": "code",
      "execution_count": null,
      "metadata": {
        "colab": {
          "base_uri": "https://localhost:8080/"
        },
        "id": "4fcunBsjD2Fv",
        "outputId": "9d3218a9-931f-445c-973b-13b90fb59362"
      },
      "outputs": [
        {
          "output_type": "stream",
          "name": "stdout",
          "text": [
            "60000\n",
            "28\n",
            "28\n"
          ]
        }
      ],
      "source": [
        "print(xtrain.shape[0])\n",
        "print(xtrain.shape[1])\n",
        "print(xtrain.shape[2])"
      ]
    },
    {
      "cell_type": "code",
      "execution_count": null,
      "metadata": {
        "id": "1cP9X7xZ2eLs"
      },
      "outputs": [],
      "source": [
        "xtrain = xtrain.astype('float32')\n",
        "xtest  = xtest.astype('float32')"
      ]
    },
    {
      "cell_type": "code",
      "execution_count": null,
      "metadata": {
        "colab": {
          "base_uri": "https://localhost:8080/"
        },
        "id": "9s6UNFM62Djm",
        "outputId": "6f261eb1-14e0-43fb-ce27-a1c790b86971"
      },
      "outputs": [
        {
          "output_type": "stream",
          "name": "stdout",
          "text": [
            "255.0 255.0\n",
            "0.0 0.0\n",
            "9 9\n",
            "0 0\n",
            "72.94042\n",
            "90.02121\n",
            "2.0224075 2.0224075\n",
            "-0.8102582 -0.8102582\n"
          ]
        }
      ],
      "source": [
        "import numpy as np\n",
        "#keras.utils.normalize(a, axis=-1, order=2)\n",
        "print (np.max(xtrain),np.max(xtest))\n",
        "print (np.min(xtrain),np.min(xtest))\n",
        "\n",
        "print (np.max(ytrain),np.max(ytest))\n",
        "print (np.min(ytrain),np.min(ytest))\n",
        "\n",
        "mean = np.mean(xtrain)\n",
        "std  = np.std(xtrain)\n",
        "\n",
        "print(mean)\n",
        "print(std)\n",
        "\n",
        "xtrain -= mean\n",
        "xtrain /= std\n",
        "\n",
        "xtest -= mean\n",
        "xtest /= std\n",
        "\n",
        "print (np.max(xtrain),np.max(xtest))\n",
        "print (np.min(xtrain),np.min(xtest))"
      ]
    },
    {
      "cell_type": "code",
      "execution_count": null,
      "metadata": {
        "colab": {
          "base_uri": "https://localhost:8080/"
        },
        "id": "7A91IbEa0W8s",
        "outputId": "de2c5c0f-a63c-4139-da15-691e09dee3f0"
      },
      "outputs": [
        {
          "output_type": "stream",
          "name": "stdout",
          "text": [
            "(60000, 28, 28, 1)\n",
            "(10000, 28, 28, 1)\n"
          ]
        }
      ],
      "source": [
        "xtrain = xtrain.reshape(xtrain.shape[0],28,28,1)\n",
        "print(xtrain.shape)\n",
        "xtest =  xtest.reshape(xtest.shape[0],28,28,1)\n",
        "print(xtest.shape)\n",
        "\n",
        "\n"
      ]
    },
    {
      "cell_type": "code",
      "execution_count": null,
      "metadata": {
        "colab": {
          "base_uri": "https://localhost:8080/"
        },
        "id": "zMbLmBA_0W2F",
        "outputId": "f5589c7e-dfc1-4dc8-b007-4a2d24539899"
      },
      "outputs": [
        {
          "output_type": "stream",
          "name": "stdout",
          "text": [
            "[0. 0. 0. 0. 0. 0. 0. 0. 0. 1.]\n"
          ]
        }
      ],
      "source": [
        "#from keras.utils import to_categorical\n",
        "from tensorflow.keras.utils import to_categorical\n",
        "ytrain =  to_categorical(ytrain)\n",
        "ytest  =  to_categorical(ytest)\n",
        "print(ytest[0])"
      ]
    },
    {
      "cell_type": "markdown",
      "metadata": {
        "id": "Kk6PWrfHRpSI"
      },
      "source": [
        "### LeNet Model"
      ]
    },
    {
      "cell_type": "code",
      "execution_count": null,
      "metadata": {
        "id": "7W8d09qsELhH"
      },
      "outputs": [],
      "source": [
        "import keras\n",
        "from keras import models\n",
        "from keras import layers"
      ]
    },
    {
      "cell_type": "code",
      "source": [
        ""
      ],
      "metadata": {
        "id": "oRz8WfaYMnu7"
      },
      "execution_count": null,
      "outputs": []
    },
    {
      "cell_type": "code",
      "execution_count": null,
      "metadata": {
        "colab": {
          "base_uri": "https://localhost:8080/"
        },
        "id": "M4Bna6oRELmu",
        "outputId": "e165b8a4-4eb8-4bc3-dd3c-25579c4f0d9a"
      },
      "outputs": [
        {
          "output_type": "stream",
          "name": "stdout",
          "text": [
            "Model: \"sequential_4\"\n",
            "_________________________________________________________________\n",
            " Layer (type)                Output Shape              Param #   \n",
            "=================================================================\n",
            " conv2d_7 (Conv2D)           (None, 24, 24, 6)         156       \n",
            "                                                                 \n",
            " max_pooling2d_4 (MaxPooling  (None, 12, 12, 6)        0         \n",
            " 2D)                                                             \n",
            "                                                                 \n",
            " conv2d_8 (Conv2D)           (None, 8, 8, 32)          4832      \n",
            "                                                                 \n",
            " max_pooling2d_5 (MaxPooling  (None, 4, 4, 32)         0         \n",
            " 2D)                                                             \n",
            "                                                                 \n",
            " flatten_3 (Flatten)         (None, 512)               0         \n",
            "                                                                 \n",
            " dense_9 (Dense)             (None, 120)               61560     \n",
            "                                                                 \n",
            " dense_10 (Dense)            (None, 84)                10164     \n",
            "                                                                 \n",
            " dense_11 (Dense)            (None, 10)                850       \n",
            "                                                                 \n",
            "=================================================================\n",
            "Total params: 77,562\n",
            "Trainable params: 77,562\n",
            "Non-trainable params: 0\n",
            "_________________________________________________________________\n"
          ]
        }
      ],
      "source": [
        "model = models.Sequential()\n",
        "\n",
        "\n",
        "\n",
        "# 2 convolution layers\n",
        "# 2 avg pooling\n",
        "# flatten\n",
        "# 3 dense layers(last layer use softmax)\n",
        "\n",
        "\n",
        "#model.add(layers.Conv2D(20, (10,10), input_shape=(100,100,3), activation='relu', strides=(2,2), padding='same'))\n",
        "#pooling window size is 2 × 2.\n",
        "\n",
        "model.add(layers.Conv2D(6, (5,5), input_shape=(28,28,1), activation='relu', strides=(1,1), padding='valid'))\n",
        "model.add(layers.MaxPooling2D(pool_size=(2,2), strides=(2,2)))\n",
        "\n",
        "model.add(layers.Conv2D(32, (5,5), activation='relu', strides=(1,1), padding='valid'))\n",
        "model.add(layers.MaxPooling2D(pool_size=(2,2), strides=(2,2)))\n",
        "\n",
        "\n",
        "model.add(layers.Flatten())\n",
        "model.add(layers.Dense(120, activation='relu'))\n",
        "model.add(layers.Dense(84, activation='relu'))\n",
        "model.add(layers.Dense(10, activation='softmax'))\n",
        "\n",
        "model.summary()"
      ]
    },
    {
      "cell_type": "markdown",
      "metadata": {
        "id": "MD0IUy1HRwUS"
      },
      "source": [
        "### Visualization of randomly initialized filters"
      ]
    },
    {
      "cell_type": "code",
      "execution_count": null,
      "metadata": {
        "colab": {
          "base_uri": "https://localhost:8080/",
          "height": 278
        },
        "id": "LibQa_Z0ELrx",
        "outputId": "125ae6a2-9924-4acc-d3b6-d070ad6eed4d"
      },
      "outputs": [
        {
          "output_type": "display_data",
          "data": {
            "text/plain": [
              "<Figure size 360x360 with 6 Axes>"
            ],
            "image/png": "[encoded data removed]"
          },
          "metadata": {
            "needs_background": "light"
          }
        }
      ],
      "source": [
        "weight_conv2d_1 = model.layers[0].get_weights()[0][:,:,0,:]\n",
        " \n",
        "col_size = 3\n",
        "row_size = 2\n",
        "filter_index = 0\n",
        "fig, ax = plt.subplots(row_size, col_size, figsize=(5,5))\n",
        "for row in range(0,row_size): \n",
        "  for col in range(0,col_size):\n",
        "    ax[row][col].imshow(weight_conv2d_1[:,:,filter_index],cmap=\"gray\")\n",
        "    filter_index += 1"
      ]
    },
    {
      "cell_type": "code",
      "execution_count": null,
      "metadata": {
        "colab": {
          "base_uri": "https://localhost:8080/"
        },
        "id": "ggvk1lXjEZnW",
        "outputId": "3a63c780-6675-4b68-c98c-eda70294d9bf"
      },
      "outputs": [
        {
          "output_type": "stream",
          "name": "stdout",
          "text": [
            "[[ 0.03 -0.11  0.07 -0.13 -0.  ]\n",
            " [-0.09  0.14 -0.1   0.09  0.11]\n",
            " [ 0.02  0.    0.08  0.06 -0.12]\n",
            " [-0.16  0.04  0.08 -0.07 -0.17]\n",
            " [-0.03  0.18 -0.16 -0.17  0.01]]\n",
            "\n",
            "[[-0.02 -0.16  0.17 -0.   -0.16]\n",
            " [-0.17  0.14 -0.03  0.07  0.09]\n",
            " [-0.1   0.   -0.09  0.13  0.13]\n",
            " [-0.03  0.01  0.02 -0.16 -0.09]\n",
            " [ 0.05 -0.18  0.06 -0.17 -0.15]]\n",
            "\n",
            "[[-0.15 -0.04  0.06 -0.08  0.06]\n",
            " [ 0.09  0.05  0.1   0.17  0.1 ]\n",
            " [ 0.02  0.03 -0.04 -0.16 -0.06]\n",
            " [-0.13 -0.02 -0.17 -0.08  0.07]\n",
            " [-0.07 -0.13  0.17  0.15  0.05]]\n",
            "\n",
            "[[-0.02  0.11  0.17  0.16  0.08]\n",
            " [ 0.1   0.06 -0.17  0.07  0.14]\n",
            " [-0.13 -0.03  0.13 -0.05 -0.15]\n",
            " [ 0.03  0.15 -0.09  0.09  0.08]\n",
            " [ 0.   -0.11  0.07  0.17 -0.13]]\n",
            "\n",
            "[[ 0.02  0.14  0.03 -0.15 -0.09]\n",
            " [ 0.01 -0.09  0.05 -0.05 -0.02]\n",
            " [-0.03 -0.14 -0.04 -0.1   0.04]\n",
            " [-0.15  0.14 -0.14  0.16 -0.1 ]\n",
            " [ 0.03  0.18 -0.07  0.15 -0.15]]\n",
            "\n",
            "[[-0.06 -0.06 -0.14  0.16  0.01]\n",
            " [-0.07  0.15 -0.13 -0.09 -0.12]\n",
            " [-0.09 -0.05  0.06  0.07  0.05]\n",
            " [ 0.07 -0.04 -0.08  0.09  0.05]\n",
            " [ 0.17  0.08  0.01  0.08 -0.02]]\n"
          ]
        }
      ],
      "source": [
        "print(weight_conv2d_1[:,:,0])\n",
        "print(\"\")\n",
        "print(weight_conv2d_1[:,:,1])\n",
        "print(\"\")\n",
        "print(weight_conv2d_1[:,:,2])\n",
        "print(\"\")\n",
        "print(weight_conv2d_1[:,:,3])\n",
        "print(\"\")\n",
        "print(weight_conv2d_1[:,:,4])\n",
        "print(\"\")\n",
        "print(weight_conv2d_1[:,:,5])"
      ]
    },
    {
      "cell_type": "code",
      "execution_count": null,
      "metadata": {
        "colab": {
          "base_uri": "https://localhost:8080/",
          "height": 483
        },
        "id": "cRytZyDrELwu",
        "outputId": "80e139e8-1ef8-48e0-8926-a9c60d5edcc5"
      },
      "outputs": [
        {
          "output_type": "display_data",
          "data": {
            "text/plain": [
              "<Figure size 864x576 with 16 Axes>"
            ],
            "image/png": "[encoded data removed]"
          },
          "metadata": {
            "needs_background": "light"
          }
        }
      ],
      "source": [
        "weight_conv2d_2 = model.layers[2].get_weights()[0][:,:,0,:]\n",
        "#plt.axis=(\"OFF\")\n",
        "col_size = 4\n",
        "row_size = 4\n",
        "filter_index = 0\n",
        "fig, ax = plt.subplots(row_size, col_size, figsize=(12,8))\n",
        "for row in range(0,row_size): \n",
        "  for col in range(0,col_size):\n",
        "    ax[row][col].imshow(weight_conv2d_2[:,:,filter_index],cmap=\"gray\")\n",
        "    filter_index += 1"
      ]
    },
    {
      "cell_type": "code",
      "execution_count": null,
      "metadata": {
        "colab": {
          "base_uri": "https://localhost:8080/"
        },
        "id": "wnwxFfN-EL11",
        "outputId": "1f046efb-0f86-47be-a920-46068e4d939d"
      },
      "outputs": [
        {
          "output_type": "stream",
          "name": "stdout",
          "text": [
            "[[ 0.01  0.02  0.07  0.03  0.01]\n",
            " [ 0.01  0.05 -0.03  0.07 -0.04]\n",
            " [ 0.04 -0.02 -0.04 -0.05 -0.01]\n",
            " [-0.02  0.08  0.03 -0.04 -0.02]\n",
            " [ 0.05 -0.08 -0.02 -0.08  0.03]]\n",
            "\n",
            "[[-0.    0.02 -0.08 -0.04  0.04]\n",
            " [ 0.02  0.07 -0.03 -0.07  0.03]\n",
            " [-0.06 -0.05  0.07  0.05  0.05]\n",
            " [-0.03  0.02  0.06 -0.01  0.06]\n",
            " [ 0.07  0.07 -0.07  0.01  0.04]]\n",
            "\n",
            "[[-0.05 -0.06 -0.02  0.04  0.07]\n",
            " [-0.02  0.07  0.05  0.02 -0.01]\n",
            " [ 0.03  0.06  0.04 -0.07  0.03]\n",
            " [-0.05  0.07  0.04  0.03 -0.  ]\n",
            " [-0.05  0.02  0.04 -0.03 -0.01]]\n",
            "\n",
            "[[-0.    0.02 -0.05  0.03  0.02]\n",
            " [ 0.05  0.03 -0.03 -0.06  0.03]\n",
            " [ 0.05 -0.08 -0.01 -0.05  0.02]\n",
            " [ 0.03 -0.06 -0.04  0.02  0.08]\n",
            " [-0.04 -0.   -0.01 -0.01 -0.06]]\n",
            "\n",
            "[[ 0.07 -0.02 -0.08 -0.05  0.01]\n",
            " [ 0.01  0.    0.01  0.   -0.07]\n",
            " [ 0.01  0.07  0.04 -0.   -0.01]\n",
            " [-0.04  0.02 -0.01  0.01 -0.06]\n",
            " [-0.04  0.01  0.06 -0.03 -0.04]]\n",
            "\n",
            "[[ 0.06  0.01  0.04  0.02 -0.02]\n",
            " [-0.02  0.02 -0.03  0.01  0.06]\n",
            " [-0.03  0.04  0.07  0.08  0.03]\n",
            " [ 0.01 -0.02 -0.04  0.01 -0.07]\n",
            " [-0.01  0.02  0.05 -0.01 -0.06]]\n",
            "\n",
            "[[-0.03 -0.06  0.05  0.03 -0.03]\n",
            " [ 0.02  0.03  0.07  0.03  0.03]\n",
            " [ 0.06  0.04  0.05  0.05 -0.  ]\n",
            " [-0.07  0.06  0.02  0.06  0.07]\n",
            " [-0.04 -0.03 -0.06  0.07 -0.07]]\n",
            "\n",
            "[[-0.03 -0.01 -0.03  0.02 -0.04]\n",
            " [ 0.   -0.04  0.01  0.07  0.06]\n",
            " [ 0.01 -0.    0.04  0.07 -0.02]\n",
            " [ 0.06 -0.07  0.06 -0.01 -0.05]\n",
            " [-0.    0.04 -0.05  0.04  0.05]]\n",
            "\n",
            "[[-0.01 -0.07  0.03 -0.04  0.06]\n",
            " [-0.08  0.07 -0.05 -0.01  0.08]\n",
            " [ 0.03 -0.01 -0.06 -0.06  0.03]\n",
            " [-0.04  0.02 -0.02 -0.07 -0.04]\n",
            " [ 0.04 -0.06 -0.06  0.04 -0.07]]\n",
            "\n",
            "[[-0.01  0.    0.04  0.04 -0.01]\n",
            " [ 0.03  0.08 -0.01  0.08  0.07]\n",
            " [-0.03  0.04 -0.07  0.07  0.02]\n",
            " [-0.01 -0.04  0.06  0.08  0.02]\n",
            " [ 0.01  0.03 -0.01  0.05 -0.04]]\n",
            "\n",
            "[[-0.03 -0.04  0.05 -0.03 -0.03]\n",
            " [-0.06  0.02 -0.03  0.08  0.  ]\n",
            " [ 0.01  0.05 -0.02  0.06  0.06]\n",
            " [ 0.05 -0.07  0.06  0.01 -0.05]\n",
            " [-0.01 -0.    0.01  0.01  0.07]]\n",
            "\n",
            "[[ 0.02  0.03 -0.02  0.08 -0.08]\n",
            " [ 0.    0.02 -0.06  0.01  0.01]\n",
            " [-0.08  0.08 -0.05 -0.07 -0.03]\n",
            " [-0.08  0.07  0.02  0.07  0.07]\n",
            " [ 0.05 -0.03 -0.02  0.01  0.04]]\n",
            "\n",
            "[[ 0.04 -0.    0.07  0.07 -0.03]\n",
            " [-0.07  0.01 -0.08  0.01 -0.01]\n",
            " [ 0.06 -0.02  0.01 -0.01  0.08]\n",
            " [ 0.04  0.04 -0.04 -0.02  0.  ]\n",
            " [-0.07  0.04 -0.   -0.02  0.  ]]\n",
            "\n",
            "[[-0.   -0.05 -0.05 -0.04  0.  ]\n",
            " [ 0.01 -0.04  0.02  0.02  0.06]\n",
            " [ 0.06  0.03  0.   -0.01  0.04]\n",
            " [ 0.05 -0.03  0.07 -0.07  0.01]\n",
            " [ 0.07 -0.07 -0.07  0.04  0.07]]\n",
            "\n",
            "[[-0.04  0.07 -0.01 -0.08 -0.07]\n",
            " [-0.06  0.03  0.06  0.02 -0.08]\n",
            " [-0.   -0.07 -0.04 -0.02 -0.03]\n",
            " [-0.06  0.05  0.01 -0.02 -0.05]\n",
            " [-0.06  0.04  0.01  0.02 -0.05]]\n",
            "\n",
            "[[-0.   -0.05  0.02 -0.08  0.03]\n",
            " [-0.01 -0.02  0.06 -0.04 -0.01]\n",
            " [ 0.   -0.07 -0.01 -0.05  0.05]\n",
            " [ 0.06  0.04 -0.07 -0.04  0.03]\n",
            " [-0.03 -0.02  0.04  0.01  0.07]]\n"
          ]
        }
      ],
      "source": [
        "print(weight_conv2d_2[:,:,0])\n",
        "print(\"\")\n",
        "print(weight_conv2d_2[:,:,1])\n",
        "print(\"\")\n",
        "print(weight_conv2d_2[:,:,2])\n",
        "print(\"\")\n",
        "print(weight_conv2d_2[:,:,3])\n",
        "print(\"\")\n",
        "print(weight_conv2d_2[:,:,4])\n",
        "print(\"\")\n",
        "print(weight_conv2d_2[:,:,5])\n",
        "print(\"\")\n",
        "print(weight_conv2d_2[:,:,6])\n",
        "print(\"\")\n",
        "print(weight_conv2d_2[:,:,7])\n",
        "print(\"\")\n",
        "print(weight_conv2d_2[:,:,8])\n",
        "print(\"\")\n",
        "print(weight_conv2d_2[:,:,9])\n",
        "print(\"\")\n",
        "print(weight_conv2d_2[:,:,10])\n",
        "print(\"\")\n",
        "print(weight_conv2d_2[:,:,11])\n",
        "print(\"\")\n",
        "print(weight_conv2d_2[:,:,12])\n",
        "print(\"\")\n",
        "print(weight_conv2d_2[:,:,13])\n",
        "print(\"\")\n",
        "print(weight_conv2d_2[:,:,14])\n",
        "print(\"\")\n",
        "print(weight_conv2d_2[:,:,15])"
      ]
    },
    {
      "cell_type": "markdown",
      "metadata": {
        "id": "Mfg2xjEBR45s"
      },
      "source": [
        "### Compile and Training the model"
      ]
    },
    {
      "cell_type": "code",
      "execution_count": null,
      "metadata": {
        "id": "rzOe9IWPEL8h"
      },
      "outputs": [],
      "source": [
        "#os.chdir('/content/drive/MyDrive/MLlab pics/Weights/')\n",
        "\n",
        "#print(os.getcwd())\n",
        "\n",
        "from keras.callbacks import ModelCheckpoint,CSVLogger\n",
        "mc = ModelCheckpoint('CNN_MNIST.h5', monitor='val_loss', mode='min', verbose=1, save_best_only=True)\n",
        "cv = keras.callbacks.CSVLogger('CNN_MNIST.csv', separator=',', append=False)"
      ]
    },
    {
      "cell_type": "code",
      "execution_count": null,
      "metadata": {
        "colab": {
          "base_uri": "https://localhost:8080/"
        },
        "id": "_AV_7BHI7qzP",
        "outputId": "121a15a7-e1fd-4c8e-d9d2-281a07760f6b"
      },
      "outputs": [
        {
          "output_type": "stream",
          "name": "stdout",
          "text": [
            "Epoch 1/50\n",
            "188/188 [==============================] - ETA: 0s - loss: 1.5215 - accuracy: 0.4957\n",
            "Epoch 1: val_loss improved from inf to 0.90213, saving model to CNN_MNIST.h5\n",
            "188/188 [==============================] - 3s 12ms/step - loss: 1.5215 - accuracy: 0.4957 - val_loss: 0.9021 - val_accuracy: 0.6590\n",
            "Epoch 2/50\n",
            "182/188 [============================>.] - ETA: 0s - loss: 0.8233 - accuracy: 0.6921\n",
            "Epoch 2: val_loss improved from 0.90213 to 0.73114, saving model to CNN_MNIST.h5\n",
            "188/188 [==============================] - 2s 10ms/step - loss: 0.8199 - accuracy: 0.6935 - val_loss: 0.7311 - val_accuracy: 0.7138\n",
            "Epoch 3/50\n",
            "184/188 [============================>.] - ETA: 0s - loss: 0.7034 - accuracy: 0.7372\n",
            "Epoch 3: val_loss improved from 0.73114 to 0.66976, saving model to CNN_MNIST.h5\n",
            "188/188 [==============================] - 2s 10ms/step - loss: 0.7025 - accuracy: 0.7375 - val_loss: 0.6698 - val_accuracy: 0.7452\n",
            "Epoch 4/50\n",
            "185/188 [============================>.] - ETA: 0s - loss: 0.6345 - accuracy: 0.7622\n",
            "Epoch 4: val_loss improved from 0.66976 to 0.60228, saving model to CNN_MNIST.h5\n",
            "188/188 [==============================] - 2s 10ms/step - loss: 0.6348 - accuracy: 0.7620 - val_loss: 0.6023 - val_accuracy: 0.7826\n",
            "Epoch 5/50\n",
            "182/188 [============================>.] - ETA: 0s - loss: 0.5851 - accuracy: 0.7835\n",
            "Epoch 5: val_loss improved from 0.60228 to 0.57819, saving model to CNN_MNIST.h5\n",
            "188/188 [==============================] - 2s 10ms/step - loss: 0.5837 - accuracy: 0.7840 - val_loss: 0.5782 - val_accuracy: 0.7867\n",
            "Epoch 6/50\n",
            "186/188 [============================>.] - ETA: 0s - loss: 0.5489 - accuracy: 0.7963\n",
            "Epoch 6: val_loss did not improve from 0.57819\n",
            "188/188 [==============================] - 2s 10ms/step - loss: 0.5492 - accuracy: 0.7964 - val_loss: 0.6878 - val_accuracy: 0.7397\n",
            "Epoch 7/50\n",
            "184/188 [============================>.] - ETA: 0s - loss: 0.5228 - accuracy: 0.8084\n",
            "Epoch 7: val_loss improved from 0.57819 to 0.51195, saving model to CNN_MNIST.h5\n",
            "188/188 [==============================] - 2s 10ms/step - loss: 0.5237 - accuracy: 0.8080 - val_loss: 0.5120 - val_accuracy: 0.8121\n",
            "Epoch 8/50\n",
            "186/188 [============================>.] - ETA: 0s - loss: 0.4992 - accuracy: 0.8191\n",
            "Epoch 8: val_loss did not improve from 0.51195\n",
            "188/188 [==============================] - 2s 10ms/step - loss: 0.4994 - accuracy: 0.8191 - val_loss: 0.5204 - val_accuracy: 0.8048\n",
            "Epoch 9/50\n",
            "188/188 [==============================] - ETA: 0s - loss: 0.4852 - accuracy: 0.8219\n",
            "Epoch 9: val_loss did not improve from 0.51195\n",
            "188/188 [==============================] - 2s 10ms/step - loss: 0.4852 - accuracy: 0.8219 - val_loss: 0.5444 - val_accuracy: 0.7883\n",
            "Epoch 10/50\n",
            "187/188 [============================>.] - ETA: 0s - loss: 0.4673 - accuracy: 0.8296\n",
            "Epoch 10: val_loss improved from 0.51195 to 0.48210, saving model to CNN_MNIST.h5\n",
            "188/188 [==============================] - 2s 10ms/step - loss: 0.4675 - accuracy: 0.8295 - val_loss: 0.4821 - val_accuracy: 0.8207\n",
            "Epoch 11/50\n",
            "186/188 [============================>.] - ETA: 0s - loss: 0.4539 - accuracy: 0.8362\n",
            "Epoch 11: val_loss improved from 0.48210 to 0.46288, saving model to CNN_MNIST.h5\n",
            "188/188 [==============================] - 2s 10ms/step - loss: 0.4538 - accuracy: 0.8362 - val_loss: 0.4629 - val_accuracy: 0.8287\n",
            "Epoch 12/50\n",
            "187/188 [============================>.] - ETA: 0s - loss: 0.4424 - accuracy: 0.8402\n",
            "Epoch 12: val_loss improved from 0.46288 to 0.44017, saving model to CNN_MNIST.h5\n",
            "188/188 [==============================] - 2s 10ms/step - loss: 0.4421 - accuracy: 0.8403 - val_loss: 0.4402 - val_accuracy: 0.8373\n",
            "Epoch 13/50\n",
            "186/188 [============================>.] - ETA: 0s - loss: 0.4305 - accuracy: 0.8445\n",
            "Epoch 13: val_loss did not improve from 0.44017\n",
            "188/188 [==============================] - 2s 10ms/step - loss: 0.4307 - accuracy: 0.8445 - val_loss: 0.4567 - val_accuracy: 0.8300\n",
            "Epoch 14/50\n",
            "187/188 [============================>.] - ETA: 0s - loss: 0.4209 - accuracy: 0.8477\n",
            "Epoch 14: val_loss improved from 0.44017 to 0.42184, saving model to CNN_MNIST.h5\n",
            "188/188 [==============================] - 2s 10ms/step - loss: 0.4208 - accuracy: 0.8477 - val_loss: 0.4218 - val_accuracy: 0.8472\n",
            "Epoch 15/50\n",
            "182/188 [============================>.] - ETA: 0s - loss: 0.4096 - accuracy: 0.8527\n",
            "Epoch 15: val_loss did not improve from 0.42184\n",
            "188/188 [==============================] - 2s 9ms/step - loss: 0.4102 - accuracy: 0.8525 - val_loss: 0.4363 - val_accuracy: 0.8427\n",
            "Epoch 16/50\n",
            "187/188 [============================>.] - ETA: 0s - loss: 0.4043 - accuracy: 0.8545\n",
            "Epoch 16: val_loss did not improve from 0.42184\n",
            "188/188 [==============================] - 2s 10ms/step - loss: 0.4043 - accuracy: 0.8546 - val_loss: 0.4426 - val_accuracy: 0.8393\n",
            "Epoch 17/50\n",
            "183/188 [============================>.] - ETA: 0s - loss: 0.3956 - accuracy: 0.8584\n",
            "Epoch 17: val_loss did not improve from 0.42184\n",
            "188/188 [==============================] - 2s 10ms/step - loss: 0.3948 - accuracy: 0.8586 - val_loss: 0.4265 - val_accuracy: 0.8463\n",
            "Epoch 18/50\n",
            "186/188 [============================>.] - ETA: 0s - loss: 0.3889 - accuracy: 0.8607\n",
            "Epoch 18: val_loss did not improve from 0.42184\n",
            "188/188 [==============================] - 2s 10ms/step - loss: 0.3886 - accuracy: 0.8608 - val_loss: 0.4248 - val_accuracy: 0.8407\n",
            "Epoch 19/50\n",
            "187/188 [============================>.] - ETA: 0s - loss: 0.3815 - accuracy: 0.8636\n",
            "Epoch 19: val_loss improved from 0.42184 to 0.40816, saving model to CNN_MNIST.h5\n",
            "188/188 [==============================] - 2s 10ms/step - loss: 0.3817 - accuracy: 0.8636 - val_loss: 0.4082 - val_accuracy: 0.8527\n",
            "Epoch 20/50\n",
            "187/188 [============================>.] - ETA: 0s - loss: 0.3777 - accuracy: 0.8637\n",
            "Epoch 20: val_loss improved from 0.40816 to 0.38693, saving model to CNN_MNIST.h5\n",
            "188/188 [==============================] - 2s 10ms/step - loss: 0.3776 - accuracy: 0.8638 - val_loss: 0.3869 - val_accuracy: 0.8612\n",
            "Epoch 21/50\n",
            "185/188 [============================>.] - ETA: 0s - loss: 0.3700 - accuracy: 0.8649\n",
            "Epoch 21: val_loss did not improve from 0.38693\n",
            "188/188 [==============================] - 2s 10ms/step - loss: 0.3702 - accuracy: 0.8650 - val_loss: 0.4138 - val_accuracy: 0.8496\n",
            "Epoch 22/50\n",
            "187/188 [============================>.] - ETA: 0s - loss: 0.3650 - accuracy: 0.8697\n",
            "Epoch 22: val_loss did not improve from 0.38693\n",
            "188/188 [==============================] - 2s 10ms/step - loss: 0.3648 - accuracy: 0.8698 - val_loss: 0.4129 - val_accuracy: 0.8508\n",
            "Epoch 23/50\n",
            "185/188 [============================>.] - ETA: 0s - loss: 0.3591 - accuracy: 0.8713\n",
            "Epoch 23: val_loss improved from 0.38693 to 0.37808, saving model to CNN_MNIST.h5\n",
            "188/188 [==============================] - 2s 11ms/step - loss: 0.3594 - accuracy: 0.8710 - val_loss: 0.3781 - val_accuracy: 0.8603\n",
            "Epoch 24/50\n",
            "182/188 [============================>.] - ETA: 0s - loss: 0.3555 - accuracy: 0.8717\n",
            "Epoch 24: val_loss did not improve from 0.37808\n",
            "188/188 [==============================] - 2s 10ms/step - loss: 0.3554 - accuracy: 0.8719 - val_loss: 0.3923 - val_accuracy: 0.8574\n",
            "Epoch 25/50\n",
            "183/188 [============================>.] - ETA: 0s - loss: 0.3503 - accuracy: 0.8734\n",
            "Epoch 25: val_loss improved from 0.37808 to 0.37381, saving model to CNN_MNIST.h5\n",
            "188/188 [==============================] - 2s 11ms/step - loss: 0.3501 - accuracy: 0.8735 - val_loss: 0.3738 - val_accuracy: 0.8631\n",
            "Epoch 26/50\n",
            "183/188 [============================>.] - ETA: 0s - loss: 0.3496 - accuracy: 0.8747\n",
            "Epoch 26: val_loss did not improve from 0.37381\n",
            "188/188 [==============================] - 2s 10ms/step - loss: 0.3496 - accuracy: 0.8746 - val_loss: 0.4309 - val_accuracy: 0.8448\n",
            "Epoch 27/50\n",
            "186/188 [============================>.] - ETA: 0s - loss: 0.3423 - accuracy: 0.8762\n",
            "Epoch 27: val_loss did not improve from 0.37381\n",
            "188/188 [==============================] - 2s 10ms/step - loss: 0.3420 - accuracy: 0.8762 - val_loss: 0.4168 - val_accuracy: 0.8509\n",
            "Epoch 28/50\n",
            "183/188 [============================>.] - ETA: 0s - loss: 0.3401 - accuracy: 0.8774\n",
            "Epoch 28: val_loss improved from 0.37381 to 0.36757, saving model to CNN_MNIST.h5\n",
            "188/188 [==============================] - 2s 10ms/step - loss: 0.3399 - accuracy: 0.8773 - val_loss: 0.3676 - val_accuracy: 0.8661\n",
            "Epoch 29/50\n",
            "182/188 [============================>.] - ETA: 0s - loss: 0.3363 - accuracy: 0.8787\n",
            "Epoch 29: val_loss did not improve from 0.36757\n",
            "188/188 [==============================] - 2s 10ms/step - loss: 0.3363 - accuracy: 0.8784 - val_loss: 0.3700 - val_accuracy: 0.8629\n",
            "Epoch 30/50\n",
            "184/188 [============================>.] - ETA: 0s - loss: 0.3302 - accuracy: 0.8813\n",
            "Epoch 30: val_loss improved from 0.36757 to 0.35522, saving model to CNN_MNIST.h5\n",
            "188/188 [==============================] - 2s 10ms/step - loss: 0.3301 - accuracy: 0.8812 - val_loss: 0.3552 - val_accuracy: 0.8705\n",
            "Epoch 31/50\n",
            "186/188 [============================>.] - ETA: 0s - loss: 0.3307 - accuracy: 0.8799\n",
            "Epoch 31: val_loss did not improve from 0.35522\n",
            "188/188 [==============================] - 2s 11ms/step - loss: 0.3306 - accuracy: 0.8798 - val_loss: 0.3663 - val_accuracy: 0.8687\n",
            "Epoch 32/50\n",
            "187/188 [============================>.] - ETA: 0s - loss: 0.3273 - accuracy: 0.8820\n",
            "Epoch 32: val_loss did not improve from 0.35522\n",
            "188/188 [==============================] - 2s 10ms/step - loss: 0.3271 - accuracy: 0.8821 - val_loss: 0.3582 - val_accuracy: 0.8710\n",
            "Epoch 33/50\n",
            "182/188 [============================>.] - ETA: 0s - loss: 0.3222 - accuracy: 0.8840\n",
            "Epoch 33: val_loss did not improve from 0.35522\n",
            "188/188 [==============================] - 2s 10ms/step - loss: 0.3216 - accuracy: 0.8847 - val_loss: 0.3696 - val_accuracy: 0.8636\n",
            "Epoch 34/50\n",
            "183/188 [============================>.] - ETA: 0s - loss: 0.3201 - accuracy: 0.8845\n",
            "Epoch 34: val_loss improved from 0.35522 to 0.34461, saving model to CNN_MNIST.h5\n",
            "188/188 [==============================] - 2s 10ms/step - loss: 0.3196 - accuracy: 0.8846 - val_loss: 0.3446 - val_accuracy: 0.8737\n",
            "Epoch 35/50\n",
            "186/188 [============================>.] - ETA: 0s - loss: 0.3169 - accuracy: 0.8853\n",
            "Epoch 35: val_loss did not improve from 0.34461\n",
            "188/188 [==============================] - 2s 10ms/step - loss: 0.3167 - accuracy: 0.8854 - val_loss: 0.3634 - val_accuracy: 0.8684\n",
            "Epoch 36/50\n",
            "185/188 [============================>.] - ETA: 0s - loss: 0.3147 - accuracy: 0.8858\n",
            "Epoch 36: val_loss did not improve from 0.34461\n",
            "188/188 [==============================] - 2s 10ms/step - loss: 0.3148 - accuracy: 0.8859 - val_loss: 0.3938 - val_accuracy: 0.8575\n",
            "Epoch 37/50\n",
            "186/188 [============================>.] - ETA: 0s - loss: 0.3116 - accuracy: 0.8862\n",
            "Epoch 37: val_loss did not improve from 0.34461\n",
            "188/188 [==============================] - 2s 10ms/step - loss: 0.3119 - accuracy: 0.8861 - val_loss: 0.4161 - val_accuracy: 0.8491\n",
            "Epoch 38/50\n",
            "182/188 [============================>.] - ETA: 0s - loss: 0.3095 - accuracy: 0.8876\n",
            "Epoch 38: val_loss did not improve from 0.34461\n",
            "188/188 [==============================] - 2s 10ms/step - loss: 0.3087 - accuracy: 0.8877 - val_loss: 0.3633 - val_accuracy: 0.8662\n",
            "Epoch 39/50\n",
            "187/188 [============================>.] - ETA: 0s - loss: 0.3058 - accuracy: 0.8895\n",
            "Epoch 39: val_loss did not improve from 0.34461\n",
            "188/188 [==============================] - 2s 10ms/step - loss: 0.3060 - accuracy: 0.8895 - val_loss: 0.3528 - val_accuracy: 0.8727\n",
            "Epoch 40/50\n",
            "183/188 [============================>.] - ETA: 0s - loss: 0.3047 - accuracy: 0.8900\n",
            "Epoch 40: val_loss did not improve from 0.34461\n",
            "188/188 [==============================] - 2s 10ms/step - loss: 0.3041 - accuracy: 0.8900 - val_loss: 0.3465 - val_accuracy: 0.8748\n",
            "Epoch 41/50\n",
            "183/188 [============================>.] - ETA: 0s - loss: 0.3002 - accuracy: 0.8912\n",
            "Epoch 41: val_loss improved from 0.34461 to 0.33553, saving model to CNN_MNIST.h5\n",
            "188/188 [==============================] - 2s 11ms/step - loss: 0.3003 - accuracy: 0.8910 - val_loss: 0.3355 - val_accuracy: 0.8777\n",
            "Epoch 42/50\n",
            "187/188 [============================>.] - ETA: 0s - loss: 0.2996 - accuracy: 0.8920\n",
            "Epoch 42: val_loss improved from 0.33553 to 0.33112, saving model to CNN_MNIST.h5\n",
            "188/188 [==============================] - 2s 10ms/step - loss: 0.2995 - accuracy: 0.8920 - val_loss: 0.3311 - val_accuracy: 0.8803\n",
            "Epoch 43/50\n",
            "187/188 [============================>.] - ETA: 0s - loss: 0.2970 - accuracy: 0.8929\n",
            "Epoch 43: val_loss improved from 0.33112 to 0.32658, saving model to CNN_MNIST.h5\n",
            "188/188 [==============================] - 2s 10ms/step - loss: 0.2968 - accuracy: 0.8929 - val_loss: 0.3266 - val_accuracy: 0.8815\n",
            "Epoch 44/50\n",
            "182/188 [============================>.] - ETA: 0s - loss: 0.2957 - accuracy: 0.8930\n",
            "Epoch 44: val_loss did not improve from 0.32658\n",
            "188/188 [==============================] - 2s 10ms/step - loss: 0.2961 - accuracy: 0.8929 - val_loss: 0.3483 - val_accuracy: 0.8737\n",
            "Epoch 45/50\n",
            "183/188 [============================>.] - ETA: 0s - loss: 0.2931 - accuracy: 0.8941\n",
            "Epoch 45: val_loss did not improve from 0.32658\n",
            "188/188 [==============================] - 2s 10ms/step - loss: 0.2933 - accuracy: 0.8941 - val_loss: 0.3517 - val_accuracy: 0.8737\n",
            "Epoch 46/50\n",
            "183/188 [============================>.] - ETA: 0s - loss: 0.2907 - accuracy: 0.8942\n",
            "Epoch 46: val_loss did not improve from 0.32658\n",
            "188/188 [==============================] - 2s 10ms/step - loss: 0.2894 - accuracy: 0.8946 - val_loss: 0.3352 - val_accuracy: 0.8767\n",
            "Epoch 47/50\n",
            "188/188 [==============================] - ETA: 0s - loss: 0.2911 - accuracy: 0.8946\n",
            "Epoch 47: val_loss did not improve from 0.32658\n",
            "188/188 [==============================] - 2s 10ms/step - loss: 0.2911 - accuracy: 0.8946 - val_loss: 0.3366 - val_accuracy: 0.8772\n",
            "Epoch 48/50\n",
            "187/188 [============================>.] - ETA: 0s - loss: 0.2879 - accuracy: 0.8960\n",
            "Epoch 48: val_loss did not improve from 0.32658\n",
            "188/188 [==============================] - 2s 10ms/step - loss: 0.2880 - accuracy: 0.8959 - val_loss: 0.3349 - val_accuracy: 0.8757\n",
            "Epoch 49/50\n",
            "187/188 [============================>.] - ETA: 0s - loss: 0.2862 - accuracy: 0.8955\n",
            "Epoch 49: val_loss improved from 0.32658 to 0.32083, saving model to CNN_MNIST.h5\n",
            "188/188 [==============================] - 2s 10ms/step - loss: 0.2863 - accuracy: 0.8954 - val_loss: 0.3208 - val_accuracy: 0.8811\n",
            "Epoch 50/50\n",
            "185/188 [============================>.] - ETA: 0s - loss: 0.2845 - accuracy: 0.8968\n",
            "Epoch 50: val_loss did not improve from 0.32083\n",
            "188/188 [==============================] - 2s 10ms/step - loss: 0.2846 - accuracy: 0.8967 - val_loss: 0.3238 - val_accuracy: 0.8826\n"
          ]
        }
      ],
      "source": [
        "model.compile(loss=\"categorical_crossentropy\", optimizer=\"sgd\", metrics=['accuracy'])\n",
        "history=model.fit(xtrain, ytrain, validation_split=(0.2), batch_size=256, callbacks= [mc,cv],epochs=50, verbose=1)"
      ]
    },
    {
      "cell_type": "markdown",
      "metadata": {
        "id": "WO3Gv-ZvSBBv"
      },
      "source": [
        "### Evaluate"
      ]
    },
    {
      "cell_type": "code",
      "execution_count": null,
      "metadata": {
        "colab": {
          "base_uri": "https://localhost:8080/"
        },
        "id": "LMFb-yGhF-T6",
        "outputId": "ce40930a-70de-4828-ef5b-a80deb8e306f"
      },
      "outputs": [
        {
          "output_type": "stream",
          "name": "stdout",
          "text": [
            "313/313 [==============================] - 1s 4ms/step - loss: 0.3401 - accuracy: 0.8792\n"
          ]
        },
        {
          "output_type": "execute_result",
          "data": {
            "text/plain": [
              "[0.34006139636039734, 0.8791999816894531]"
            ]
          },
          "metadata": {},
          "execution_count": 108
        }
      ],
      "source": [
        "model.evaluate(xtest,ytest)"
      ]
    },
    {
      "cell_type": "markdown",
      "metadata": {
        "id": "3XAdho_fSLlk"
      },
      "source": [
        "### Loss and Accuracy Curves"
      ]
    },
    {
      "cell_type": "code",
      "execution_count": null,
      "metadata": {
        "id": "ANMlS2hSGGpb"
      },
      "outputs": [],
      "source": [
        "train_loss = history.history['loss']\n",
        "train_acc = history.history['accuracy']\n",
        "val_loss = history.history['val_loss']\n",
        "val_acc = history.history['val_accuracy']\n",
        "xc=range(len(train_loss))"
      ]
    },
    {
      "cell_type": "code",
      "execution_count": null,
      "metadata": {
        "colab": {
          "base_uri": "https://localhost:8080/",
          "height": 296
        },
        "id": "8NqqIltwGGvM",
        "outputId": "becb5113-8c99-4210-d778-41c5b20b3542"
      },
      "outputs": [
        {
          "output_type": "execute_result",
          "data": {
            "text/plain": [
              "<matplotlib.legend.Legend at 0x7f58f85fa7d0>"
            ]
          },
          "metadata": {},
          "execution_count": 110
        },
        {
          "output_type": "display_data",
          "data": {
            "text/plain": [
              "<Figure size 432x288 with 1 Axes>"
            ],
            "image/png": "[encoded data removed]"
          },
          "metadata": {
            "needs_background": "light"
          }
        }
      ],
      "source": [
        "import matplotlib.pyplot as plt\n",
        "%matplotlib inline\n",
        "plt.plot(xc, train_loss)\n",
        "plt.plot(xc, val_loss)\n",
        "plt.xlabel(\"Epoch\")\n",
        "plt.ylabel(\"Loss\")\n",
        "plt.legend(['train','val'])"
      ]
    },
    {
      "cell_type": "code",
      "execution_count": null,
      "metadata": {
        "colab": {
          "base_uri": "https://localhost:8080/",
          "height": 296
        },
        "id": "LAAataRe6UIr",
        "outputId": "7c2f7183-f928-4b9b-eb85-eeaca8c2abe6"
      },
      "outputs": [
        {
          "output_type": "execute_result",
          "data": {
            "text/plain": [
              "<matplotlib.legend.Legend at 0x7f58f8218dd0>"
            ]
          },
          "metadata": {},
          "execution_count": 111
        },
        {
          "output_type": "display_data",
          "data": {
            "text/plain": [
              "<Figure size 432x288 with 1 Axes>"
            ],
            "image/png": "[encoded data removed]"
          },
          "metadata": {
            "needs_background": "light"
          }
        }
      ],
      "source": [
        "import matplotlib.pyplot as plt\n",
        "%matplotlib inline\n",
        "plt.plot(xc, train_acc)\n",
        "plt.plot(xc, val_acc)\n",
        "plt.xlabel(\"Epoch\")\n",
        "plt.ylabel(\"Acc\")\n",
        "plt.legend(['train','val'])"
      ]
    },
    {
      "cell_type": "code",
      "execution_count": null,
      "metadata": {
        "colab": {
          "base_uri": "https://localhost:8080/"
        },
        "id": "DXL5_36FGG89",
        "outputId": "7a6b2c62-572d-4471-dd4e-6175c9881525"
      },
      "outputs": [
        {
          "output_type": "stream",
          "name": "stdout",
          "text": [
            "1 Actual is  [0. 0. 0. 0. 0. 0. 0. 0. 0. 1.] Predicted is 9\n",
            "2 Actual is  [0. 0. 1. 0. 0. 0. 0. 0. 0. 0.] Predicted is 2\n",
            "3 Actual is  [0. 1. 0. 0. 0. 0. 0. 0. 0. 0.] Predicted is 1\n",
            "4 Actual is  [0. 1. 0. 0. 0. 0. 0. 0. 0. 0.] Predicted is 1\n",
            "5 Actual is  [0. 0. 0. 0. 0. 0. 1. 0. 0. 0.] Predicted is 6\n",
            "6 Actual is  [0. 1. 0. 0. 0. 0. 0. 0. 0. 0.] Predicted is 1\n",
            "7 Actual is  [0. 0. 0. 0. 1. 0. 0. 0. 0. 0.] Predicted is 4\n",
            "8 Actual is  [0. 0. 0. 0. 0. 0. 1. 0. 0. 0.] Predicted is 6\n",
            "9 Actual is  [0. 0. 0. 0. 0. 1. 0. 0. 0. 0.] Predicted is 5\n",
            "10 Actual is  [0. 0. 0. 0. 0. 0. 0. 1. 0. 0.] Predicted is 7\n"
          ]
        }
      ],
      "source": [
        "%matplotlib inline\n",
        "for i in range(10):\n",
        "    pred = model.predict(xtest[i].reshape(1, 28, 28, 1))\n",
        "    print(\"\"+str(i+1)+\" Actual is \"+ \" \" + str(ytest[i])+\" Predicted is \"+str(pred.argmax()))"
      ]
    },
    {
      "cell_type": "code",
      "execution_count": null,
      "metadata": {
        "colab": {
          "base_uri": "https://localhost:8080/"
        },
        "id": "pFmcXsM6GG0L",
        "outputId": "fd1de3db-c94e-4151-f229-56bbfd8a9512"
      },
      "outputs": [
        {
          "output_type": "stream",
          "name": "stdout",
          "text": [
            "              precision    recall  f1-score   support\n",
            "\n",
            "     class 0       0.82      0.82      0.82      1000\n",
            "     class 1       0.97      0.98      0.97      1000\n",
            "     class 2       0.84      0.78      0.81      1000\n",
            "     class 3       0.89      0.87      0.88      1000\n",
            "     class 4       0.78      0.82      0.80      1000\n",
            "     class 5       0.97      0.96      0.96      1000\n",
            "     class 6       0.67      0.69      0.68      1000\n",
            "     class 7       0.91      0.97      0.94      1000\n",
            "     class 8       0.96      0.96      0.96      1000\n",
            "     class 9       0.98      0.93      0.96      1000\n",
            "\n",
            "    accuracy                           0.88     10000\n",
            "   macro avg       0.88      0.88      0.88     10000\n",
            "weighted avg       0.88      0.88      0.88     10000\n",
            "\n"
          ]
        }
      ],
      "source": [
        "import numpy as np\n",
        "from sklearn.metrics import classification_report,confusion_matrix\n",
        "import itertools\n",
        "\n",
        "Y_pred = model.predict(xtest)\n",
        "y_pred = np.argmax(Y_pred, axis=1)\n",
        "target_names = ['class 0', 'class 1', 'class 2','class 3','class 4','class 5','class 6','class 7','class 8','class 9']\n",
        "print(classification_report(np.argmax(ytest,axis=1), y_pred,target_names=target_names))"
      ]
    },
    {
      "cell_type": "code",
      "execution_count": null,
      "metadata": {
        "id": "DqX1NSY0Qr03"
      },
      "outputs": [],
      "source": [
        "def plot_confusion_matrix(cm, classes,\n",
        "                          normalize=False,\n",
        "                          title='Confusion matrix',\n",
        "                          cmap=plt.cm.Blues):\n",
        "    \"\"\"\n",
        "    This function prints and plots the confusion matrix.\n",
        "    Normalization can be applied by setting `normalize=True`.\n",
        "    \"\"\"\n",
        "    plt.imshow(cm, interpolation='nearest', cmap=cmap)\n",
        "    plt.title(title)\n",
        "    plt.colorbar()\n",
        "    tick_marks = np.arange(len(classes))\n",
        "    plt.xticks(tick_marks, classes, rotation=45)\n",
        "    plt.yticks(tick_marks, classes)\n",
        "\n",
        "    if normalize:\n",
        "        cm = cm.astype('float') / cm.sum(axis=1)[:, np.newaxis]\n",
        "        print(\"Normalized confusion matrix\")\n",
        "    else:\n",
        "        print('Confusion matrix, without normalization')\n",
        "\n",
        "    print(cm)\n",
        "\n",
        "    thresh = cm.max() / 2.\n",
        "    for i, j in itertools.product(range(cm.shape[0]), range(cm.shape[1])):\n",
        "        plt.text(j, i, cm[i, j],\n",
        "                 horizontalalignment=\"center\",\n",
        "                 color=\"white\" if cm[i, j] > thresh else \"black\")\n",
        "        \n",
        "\n",
        "    plt.tight_layout()\n",
        "    plt.ylabel('True label')\n",
        "    plt.xlabel('Predicted label')"
      ]
    },
    {
      "cell_type": "code",
      "execution_count": null,
      "metadata": {
        "colab": {
          "base_uri": "https://localhost:8080/",
          "height": 920
        },
        "id": "r_Zc96z4Qr6E",
        "outputId": "0ec459ce-f51f-4e9b-a52b-e583df57a88b"
      },
      "outputs": [
        {
          "output_type": "stream",
          "name": "stdout",
          "text": [
            "Confusion matrix, without normalization\n",
            "[[821   3  14  27   6   1 119   0   9   0]\n",
            " [  2 979   1  11   3   0   1   0   3   0]\n",
            " [ 13   4 784  11 104   0  81   0   3   0]\n",
            " [ 19  18  10 874  41   0  36   0   2   0]\n",
            " [  1   1  63  26 821   0  87   0   1   0]\n",
            " [  0   0   0   1   0 957   0  32   1   9]\n",
            " [134   5  54  24  77   0 692   0  14   0]\n",
            " [  0   0   0   0   0  17   0 971   1  11]\n",
            " [  6   2   4   5   3   3  12   5 960   0]\n",
            " [  0   0   0   0   0  10   0  56   1 933]]\n"
          ]
        },
        {
          "output_type": "display_data",
          "data": {
            "text/plain": [
              "<Figure size 720x720 with 2 Axes>"
            ],
            "image/png": "[encoded data removed]"
          },
          "metadata": {
            "needs_background": "light"
          }
        }
      ],
      "source": [
        "cnf_matrix = (confusion_matrix(np.argmax(ytest,axis=1), y_pred))\n",
        "np.set_printoptions(precision=2)\n",
        "plt.figure(figsize=(10,10))\n",
        "plot_confusion_matrix(cnf_matrix, classes=target_names,\n",
        "                      title='Confusion matrix')\n",
        "#plt.show()"
      ]
    },
    {
      "cell_type": "markdown",
      "metadata": {
        "id": "T_J6Gfk_78Ne"
      },
      "source": [
        "## Visualization"
      ]
    },
    {
      "cell_type": "code",
      "execution_count": null,
      "metadata": {
        "colab": {
          "base_uri": "https://localhost:8080/"
        },
        "id": "hWnpRcb2Qrw3",
        "outputId": "d5507492-1eca-4d07-bffe-17680e1457fd"
      },
      "outputs": [
        {
          "output_type": "stream",
          "name": "stdout",
          "text": [
            "<keras.layers.convolutional.Conv2D object at 0x7f58f77f6b90>\n",
            "<keras.layers.pooling.MaxPooling2D object at 0x7f5881cca110>\n",
            "<keras.layers.convolutional.Conv2D object at 0x7f58f8a78b10>\n",
            "<keras.layers.pooling.MaxPooling2D object at 0x7f5881a21990>\n",
            "<keras.layers.core.flatten.Flatten object at 0x7f58f813a550>\n",
            "<keras.layers.core.dense.Dense object at 0x7f5881feea10>\n",
            "<keras.layers.core.dense.Dense object at 0x7f58f82fc250>\n",
            "<keras.layers.core.dense.Dense object at 0x7f58f851c750>\n"
          ]
        }
      ],
      "source": [
        "for layer in model.layers:\n",
        "  print(layer)"
      ]
    },
    {
      "cell_type": "code",
      "execution_count": null,
      "metadata": {
        "id": "n_EIFWhwQy41"
      },
      "outputs": [],
      "source": [
        "from keras.models import Model\n",
        "layer_outputs = [layer.output for layer in model.layers]\n",
        "activation_model = Model(inputs=model.input, outputs=layer_outputs)\n",
        "activations = activation_model.predict(xtrain[10].reshape(1,28,28,1))"
      ]
    },
    {
      "cell_type": "code",
      "execution_count": null,
      "metadata": {
        "id": "x-wyS71SQzHw"
      },
      "outputs": [],
      "source": [
        "def display_activation(activations, col_size, row_size, act_index):\n",
        "    activation = activations[act_index]\n",
        "    activation_index=0\n",
        "    fig, ax = plt.subplots(row_size, col_size, figsize=(row_size*3.5,col_size*2.5))\n",
        "    for row in range(0,row_size):\n",
        "        for col in range(0,col_size):\n",
        "            ax[row][col].imshow(activation[0, :, :, activation_index], cmap='gray')\n",
        "            activation_index += 1"
      ]
    },
    {
      "cell_type": "code",
      "execution_count": null,
      "metadata": {
        "colab": {
          "base_uri": "https://localhost:8080/"
        },
        "id": "YBcuEmlsQzEp",
        "outputId": "f0eb26ef-932a-4d1a-e4be-f2d76b3e3efd"
      },
      "outputs": [
        {
          "output_type": "stream",
          "name": "stdout",
          "text": [
            "(1, 24, 24, 6)\n",
            "(1, 12, 12, 6)\n",
            "(1, 8, 8, 32)\n",
            "(1, 4, 4, 32)\n",
            "(1, 512)\n",
            "(1, 120)\n",
            "(1, 84)\n",
            "(1, 10)\n"
          ]
        }
      ],
      "source": [
        "len(activations)\n",
        "#activations\n",
        "print(activations[0].shape)\n",
        "print(activations[1].shape)\n",
        "print(activations[2].shape)\n",
        "print(activations[3].shape)\n",
        "print(activations[4].shape)\n",
        "print(activations[5].shape)\n",
        "print(activations[6].shape)\n",
        "print(activations[7].shape)"
      ]
    },
    {
      "cell_type": "code",
      "execution_count": null,
      "metadata": {
        "colab": {
          "base_uri": "https://localhost:8080/",
          "height": 404
        },
        "id": "038zY9fNQzAo",
        "outputId": "933c4e81-c030-4f02-8272-d512c5fe78ec"
      },
      "outputs": [
        {
          "output_type": "stream",
          "name": "stdout",
          "text": [
            "(1, 24, 24, 6)\n"
          ]
        },
        {
          "output_type": "display_data",
          "data": {
            "text/plain": [
              "<Figure size 504x540 with 6 Axes>"
            ],
            "image/png": "[encoded data removed]"
          },
          "metadata": {
            "needs_background": "light"
          }
        }
      ],
      "source": [
        "print(activations[0].shape)\n",
        "display_activation(activations,3,2,0)"
      ]
    },
    {
      "cell_type": "code",
      "execution_count": null,
      "metadata": {
        "colab": {
          "base_uri": "https://localhost:8080/",
          "height": 402
        },
        "id": "OTr0PchVQy-m",
        "outputId": "b97cd0b0-13a2-4944-fae8-2ec7885aaa05"
      },
      "outputs": [
        {
          "output_type": "stream",
          "name": "stdout",
          "text": [
            "(1, 12, 12, 6)\n"
          ]
        },
        {
          "output_type": "display_data",
          "data": {
            "text/plain": [
              "<Figure size 504x540 with 6 Axes>"
            ],
            "image/png": "[encoded data removed]"
          },
          "metadata": {
            "needs_background": "light"
          }
        }
      ],
      "source": [
        "print(activations[1].shape)\n",
        "display_activation(activations,3,2,1)"
      ]
    },
    {
      "cell_type": "code",
      "execution_count": null,
      "metadata": {
        "colab": {
          "base_uri": "https://localhost:8080/",
          "height": 609
        },
        "id": "TXsC2ucYRGLy",
        "outputId": "065165c4-9d55-48b2-f345-9cc7ac19146c"
      },
      "outputs": [
        {
          "output_type": "stream",
          "name": "stdout",
          "text": [
            "(1, 8, 8, 32)\n"
          ]
        },
        {
          "output_type": "display_data",
          "data": {
            "text/plain": [
              "<Figure size 1008x720 with 16 Axes>"
            ],
            "image/png": "[encoded data removed]"
          },
          "metadata": {
            "needs_background": "light"
          }
        }
      ],
      "source": [
        "print(activations[2].shape)\n",
        "display_activation(activations,4,4,2)"
      ]
    },
    {
      "cell_type": "code",
      "execution_count": null,
      "metadata": {
        "colab": {
          "base_uri": "https://localhost:8080/",
          "height": 609
        },
        "id": "c7NMAeS6RGYe",
        "outputId": "f20137ae-6e6e-4bae-9050-0fcce7efe8dc"
      },
      "outputs": [
        {
          "output_type": "stream",
          "name": "stdout",
          "text": [
            "(1, 4, 4, 32)\n"
          ]
        },
        {
          "output_type": "display_data",
          "data": {
            "text/plain": [
              "<Figure size 1008x720 with 16 Axes>"
            ],
            "image/png": "[encoded data removed]"
          },
          "metadata": {
            "needs_background": "light"
          }
        }
      ],
      "source": [
        "print(activations[3].shape)\n",
        "display_activation(activations,4,4,3)"
      ]
    },
    {
      "cell_type": "code",
      "execution_count": null,
      "metadata": {
        "colab": {
          "base_uri": "https://localhost:8080/",
          "height": 265
        },
        "id": "E3-8tQTTRGVx",
        "outputId": "d26e0526-f7a9-4c58-c288-45eb74dbab86"
      },
      "outputs": [
        {
          "output_type": "display_data",
          "data": {
            "text/plain": [
              "<Figure size 432x288 with 1 Axes>"
            ],
            "image/png": "[encoded data removed]"
          },
          "metadata": {
            "needs_background": "light"
          }
        }
      ],
      "source": [
        "act_dense_3  = activations[7]\n",
        " \n",
        "y = act_dense_3[0]\n",
        "x = range(len(y))\n",
        "plt.xticks(x)\n",
        "plt.bar(x, y)\n",
        "plt.show()"
      ]
    },
    {
      "cell_type": "code",
      "execution_count": null,
      "metadata": {
        "colab": {
          "base_uri": "https://localhost:8080/",
          "height": 278
        },
        "id": "ugZBEKYpRGSr",
        "outputId": "7899aa13-4f9f-42b3-c691-b21e07ac3c0a"
      },
      "outputs": [
        {
          "output_type": "display_data",
          "data": {
            "text/plain": [
              "<Figure size 360x360 with 6 Axes>"
            ],
            "image/png": "[encoded data removed]"
          },
          "metadata": {
            "needs_background": "light"
          }
        }
      ],
      "source": [
        "weight_conv2d_1 = model.layers[0].get_weights()[0][:,:,0,:]\n",
        " \n",
        "col_size = 3\n",
        "row_size = 2\n",
        "filter_index = 0\n",
        "fig, ax = plt.subplots(row_size, col_size, figsize=(5,5))\n",
        "for row in range(0,row_size): \n",
        "  for col in range(0,col_size):\n",
        "    ax[row][col].imshow(weight_conv2d_1[:,:,filter_index],cmap=\"gray\")\n",
        "    filter_index += 1"
      ]
    },
    {
      "cell_type": "code",
      "execution_count": null,
      "metadata": {
        "colab": {
          "base_uri": "https://localhost:8080/"
        },
        "id": "xnjcRxdeRRgi",
        "outputId": "a18d1768-22b3-47b5-c203-afa29accf469"
      },
      "outputs": [
        {
          "output_type": "stream",
          "name": "stdout",
          "text": [
            "[[-0.05 -0.24 -0.09 -0.23 -0.08]\n",
            " [-0.17 -0.04 -0.31 -0.09 -0.04]\n",
            " [-0.   -0.13 -0.11 -0.11 -0.26]\n",
            " [-0.15 -0.01 -0.06 -0.26 -0.31]\n",
            " [-0.05  0.14 -0.24 -0.33 -0.14]]\n",
            "\n",
            "[[-0.07 -0.18  0.12  0.04 -0.15]\n",
            " [-0.31 -0.05 -0.16 -0.    0.07]\n",
            " [-0.23 -0.24 -0.34 -0.05  0.01]\n",
            " [-0.2  -0.26 -0.33 -0.45 -0.28]\n",
            " [-0.1  -0.33 -0.21 -0.43 -0.36]]\n",
            "\n",
            "[[-0.16 -0.25  0.14  0.02  0.17]\n",
            " [-0.02 -0.27  0.08  0.21  0.19]\n",
            " [-0.08 -0.24 -0.01  0.    0.18]\n",
            " [-0.28 -0.28 -0.1   0.21  0.4 ]\n",
            " [-0.37 -0.52  0.26  0.42  0.19]]\n",
            "\n",
            "[[ 0.07  0.42  0.53  0.49  0.31]\n",
            " [ 0.12  0.13 -0.12  0.14  0.3 ]\n",
            " [-0.12  0.04  0.24 -0.   -0.07]\n",
            " [ 0.09  0.25  0.07  0.19  0.22]\n",
            " [ 0.17  0.11  0.39  0.4   0.11]]\n",
            "\n",
            "[[-0.1  -0.02 -0.14 -0.34 -0.28]\n",
            " [-0.16 -0.29 -0.15 -0.33 -0.27]\n",
            " [-0.04 -0.23 -0.16 -0.31 -0.15]\n",
            " [-0.08  0.21 -0.09  0.08 -0.24]\n",
            " [ 0.09  0.22 -0.01  0.12 -0.21]]\n",
            "\n",
            "[[-0.52 -0.4  -0.42  0.21  0.02]\n",
            " [-0.44 -0.09 -0.27  0.19 -0.02]\n",
            " [-0.18 -0.04  0.01  0.35  0.2 ]\n",
            " [ 0.13  0.07 -0.1   0.36  0.11]\n",
            " [ 0.21  0.17 -0.07  0.32  0.06]]\n"
          ]
        }
      ],
      "source": [
        "print(weight_conv2d_1[:,:,0])\n",
        "print(\"\")\n",
        "print(weight_conv2d_1[:,:,1])\n",
        "print(\"\")\n",
        "print(weight_conv2d_1[:,:,2])\n",
        "print(\"\")\n",
        "print(weight_conv2d_1[:,:,3])\n",
        "print(\"\")\n",
        "print(weight_conv2d_1[:,:,4])\n",
        "print(\"\")\n",
        "print(weight_conv2d_1[:,:,5])"
      ]
    },
    {
      "cell_type": "code",
      "execution_count": null,
      "metadata": {
        "colab": {
          "base_uri": "https://localhost:8080/",
          "height": 483
        },
        "id": "rDGYpywRRRdn",
        "outputId": "2ee36f87-ec83-4023-998c-174c6efdc540"
      },
      "outputs": [
        {
          "output_type": "display_data",
          "data": {
            "text/plain": [
              "<Figure size 864x576 with 16 Axes>"
            ],
            "image/png": "[encoded data removed]"
          },
          "metadata": {
            "needs_background": "light"
          }
        }
      ],
      "source": [
        "weight_conv2d_2 = model.layers[2].get_weights()[0][:,:,0,:]\n",
        "col_size = 4\n",
        "row_size = 4\n",
        "filter_index = 0\n",
        "fig, ax = plt.subplots(row_size, col_size, figsize=(12,8))\n",
        "for row in range(0,row_size): \n",
        "  for col in range(0,col_size):\n",
        "    ax[row][col].imshow(weight_conv2d_2[:,:,filter_index],cmap=\"gray\")\n",
        "    filter_index += 1"
      ]
    },
    {
      "cell_type": "code",
      "execution_count": null,
      "metadata": {
        "colab": {
          "base_uri": "https://localhost:8080/"
        },
        "id": "fAJ_JDw9RRax",
        "outputId": "4c756ef6-ab94-4d11-902a-06583956dad1"
      },
      "outputs": [
        {
          "output_type": "stream",
          "name": "stdout",
          "text": [
            "[[-0.    0.02  0.03  0.    0.02]\n",
            " [ 0.02  0.03 -0.07  0.04 -0.03]\n",
            " [ 0.09 -0.02 -0.06 -0.07  0.02]\n",
            " [ 0.02  0.08  0.02 -0.05 -0.  ]\n",
            " [ 0.1  -0.07 -0.01 -0.06  0.05]]\n",
            "\n",
            "[[-0.03 -0.   -0.1  -0.02  0.1 ]\n",
            " [ 0.01  0.05 -0.04 -0.05  0.08]\n",
            " [-0.05 -0.07  0.07  0.07  0.11]\n",
            " [-0.03  0.    0.05  0.01  0.1 ]\n",
            " [ 0.08  0.09 -0.06  0.03  0.09]]\n",
            "\n",
            "[[-0.04 -0.07 -0.01  0.03  0.04]\n",
            " [-0.01  0.08  0.05  0.02 -0.04]\n",
            " [ 0.05  0.06  0.03 -0.09  0.01]\n",
            " [-0.    0.05  0.02  0.04 -0.01]\n",
            " [-0.01 -0.02  0.02 -0.04 -0.02]]\n",
            "\n",
            "[[ 0.02  0.03 -0.06  0.03  0.03]\n",
            " [ 0.05  0.04 -0.05 -0.06  0.06]\n",
            " [ 0.05 -0.07 -0.04 -0.06  0.06]\n",
            " [ 0.04 -0.06 -0.04  0.02  0.1 ]\n",
            " [-0.03  0.   -0.   -0.01 -0.06]]\n",
            "\n",
            "[[ 0.09 -0.02 -0.08 -0.03  0.09]\n",
            " [ 0.04  0.01  0.01 -0.   -0.06]\n",
            " [ 0.01  0.08  0.03 -0.04 -0.04]\n",
            " [-0.04  0.06  0.   -0.   -0.08]\n",
            " [-0.04  0.05  0.09 -0.03 -0.05]]\n",
            "\n",
            "[[ 0.09  0.03  0.04  0.03  0.01]\n",
            " [ 0.03  0.05 -0.03  0.01  0.06]\n",
            " [-0.01  0.06  0.07  0.07  0.03]\n",
            " [-0.   -0.   -0.04 -0.03 -0.08]\n",
            " [-0.03 -0.    0.02 -0.03 -0.07]]\n",
            "\n",
            "[[-0.01 -0.03  0.14  0.07 -0.02]\n",
            " [ 0.01  0.04  0.11  0.1   0.05]\n",
            " [ 0.03  0.03  0.07  0.11  0.02]\n",
            " [-0.07  0.03  0.05  0.12  0.11]\n",
            " [-0.06 -0.06 -0.03  0.14 -0.03]]\n",
            "\n",
            "[[ 0.    0.01 -0.04  0.04 -0.03]\n",
            " [ 0.03 -0.02  0.02  0.08  0.06]\n",
            " [ 0.01  0.01  0.04  0.08 -0.01]\n",
            " [ 0.04 -0.07  0.06 -0.02 -0.03]\n",
            " [-0.01  0.03 -0.07  0.04  0.04]]\n",
            "\n",
            "[[-0.01 -0.06  0.05  0.    0.1 ]\n",
            " [-0.06  0.08 -0.03 -0.01  0.08]\n",
            " [ 0.04  0.01 -0.05 -0.07  0.02]\n",
            " [-0.04  0.03 -0.02 -0.08 -0.05]\n",
            " [ 0.06 -0.03 -0.03  0.06 -0.08]]\n",
            "\n",
            "[[-0.01 -0.02 -0.01 -0.   -0.02]\n",
            " [-0.    0.03 -0.02  0.05  0.04]\n",
            " [-0.06  0.01 -0.03  0.1   0.06]\n",
            " [-0.04 -0.04  0.11  0.14  0.1 ]\n",
            " [ 0.03  0.07  0.06  0.1   0.04]]\n",
            "\n",
            "[[-0.01  0.01  0.09 -0.01 -0.05]\n",
            " [-0.04  0.03 -0.03  0.08 -0.01]\n",
            " [ 0.04  0.08 -0.02  0.08  0.05]\n",
            " [ 0.07 -0.06  0.06  0.03 -0.07]\n",
            " [ 0.01  0.    0.02  0.02  0.03]]\n",
            "\n",
            "[[ 0.01  0.01 -0.01  0.11 -0.01]\n",
            " [ 0.01  0.01 -0.06 -0.01  0.04]\n",
            " [-0.1   0.07 -0.04 -0.07  0.02]\n",
            " [-0.09  0.07  0.01  0.06  0.12]\n",
            " [ 0.05 -0.04 -0.02  0.    0.09]]\n",
            "\n",
            "[[ 0.01 -0.05  0.03  0.06 -0.04]\n",
            " [-0.07 -0.01 -0.11  0.01 -0.01]\n",
            " [ 0.06 -0.04 -0.02 -0.    0.09]\n",
            " [ 0.05  0.05 -0.05 -0.02 -0.01]\n",
            " [-0.02  0.1   0.01 -0.03 -0.  ]]\n",
            "\n",
            "[[-0.   -0.07 -0.08 -0.02  0.05]\n",
            " [ 0.03 -0.02  0.03  0.04  0.13]\n",
            " [ 0.05  0.03 -0.01 -0.01  0.07]\n",
            " [ 0.04 -0.03  0.1  -0.04  0.05]\n",
            " [ 0.05 -0.06 -0.07  0.04  0.07]]\n",
            "\n",
            "[[ 0.    0.1  -0.01 -0.09 -0.08]\n",
            " [-0.02  0.02  0.05 -0.   -0.1 ]\n",
            " [-0.   -0.12 -0.06 -0.01  0.01]\n",
            " [-0.05 -0.   -0.   -0.02 -0.03]\n",
            " [-0.08  0.    0.    0.04 -0.03]]\n",
            "\n",
            "[[-0.   -0.04  0.05 -0.04  0.05]\n",
            " [-0.05 -0.04  0.07  0.    0.02]\n",
            " [-0.01 -0.08  0.02 -0.04  0.08]\n",
            " [ 0.07  0.04 -0.06 -0.04  0.02]\n",
            " [-0.04 -0.03  0.02 -0.01  0.03]]\n"
          ]
        }
      ],
      "source": [
        "print(weight_conv2d_2[:,:,0])\n",
        "print(\"\")\n",
        "print(weight_conv2d_2[:,:,1])\n",
        "print(\"\")\n",
        "print(weight_conv2d_2[:,:,2])\n",
        "print(\"\")\n",
        "print(weight_conv2d_2[:,:,3])\n",
        "print(\"\")\n",
        "print(weight_conv2d_2[:,:,4])\n",
        "print(\"\")\n",
        "print(weight_conv2d_2[:,:,5])\n",
        "print(\"\")\n",
        "print(weight_conv2d_2[:,:,6])\n",
        "print(\"\")\n",
        "print(weight_conv2d_2[:,:,7])\n",
        "print(\"\")\n",
        "print(weight_conv2d_2[:,:,8])\n",
        "print(\"\")\n",
        "print(weight_conv2d_2[:,:,9])\n",
        "print(\"\")\n",
        "print(weight_conv2d_2[:,:,10])\n",
        "print(\"\")\n",
        "print(weight_conv2d_2[:,:,11])\n",
        "print(\"\")\n",
        "print(weight_conv2d_2[:,:,12])\n",
        "print(\"\")\n",
        "print(weight_conv2d_2[:,:,13])\n",
        "print(\"\")\n",
        "print(weight_conv2d_2[:,:,14])\n",
        "print(\"\")\n",
        "print(weight_conv2d_2[:,:,15])"
      ]
    }
  ],
  "metadata": {
    "accelerator": "GPU",
    "colab": {
      "collapsed_sections": [],
      "name": "fmnist_191CS150_LAB_LeNet.ipynb",
      "provenance": [],
      "include_colab_link": true
    },
    "kernelspec": {
      "display_name": "Python 3",
      "language": "python",
      "name": "python3"
    },
    "language_info": {
      "codemirror_mode": {
        "name": "ipython",
        "version": 3
      },
      "file_extension": ".py",
      "mimetype": "text/x-python",
      "name": "python",
      "nbconvert_exporter": "python",
      "pygments_lexer": "ipython3",
      "version": "3.8.8"
    }
  },
  "nbformat": 4,
  "nbformat_minor": 0
}